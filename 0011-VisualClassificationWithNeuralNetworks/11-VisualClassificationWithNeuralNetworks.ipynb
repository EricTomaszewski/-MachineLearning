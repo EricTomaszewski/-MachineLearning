{
 "cells": [
  {
   "cell_type": "code",
   "execution_count": 2,
   "metadata": {},
   "outputs": [
    {
     "name": "stdout",
     "output_type": "stream",
     "text": [
      "Collecting matplotlib\n",
      "  Downloading matplotlib-3.7.0-cp311-cp311-win_amd64.whl (7.6 MB)\n",
      "     ---------------------------------------- 0.0/7.6 MB ? eta -:--:--\n",
      "     ---------------------------------------- 0.0/7.6 MB ? eta -:--:--\n",
      "     ---------------------------------------- 0.1/7.6 MB 919.0 kB/s eta 0:00:09\n",
      "      --------------------------------------- 0.1/7.6 MB 950.9 kB/s eta 0:00:08\n",
      "      --------------------------------------- 0.2/7.6 MB 1.1 MB/s eta 0:00:08\n",
      "     - -------------------------------------- 0.2/7.6 MB 986.4 kB/s eta 0:00:08\n",
      "     - -------------------------------------- 0.3/7.6 MB 1.0 MB/s eta 0:00:08\n",
      "     -- ------------------------------------- 0.5/7.6 MB 1.5 MB/s eta 0:00:05\n",
      "     -- ------------------------------------- 0.6/7.6 MB 1.6 MB/s eta 0:00:05\n",
      "     --- ------------------------------------ 0.6/7.6 MB 1.6 MB/s eta 0:00:05\n",
      "     --- ------------------------------------ 0.7/7.6 MB 1.5 MB/s eta 0:00:05\n",
      "     --- ------------------------------------ 0.8/7.6 MB 1.5 MB/s eta 0:00:05\n",
      "     ---- ----------------------------------- 0.8/7.6 MB 1.5 MB/s eta 0:00:05\n",
      "     ---- ----------------------------------- 0.8/7.6 MB 1.4 MB/s eta 0:00:05\n",
      "     ---- ----------------------------------- 0.9/7.6 MB 1.4 MB/s eta 0:00:05\n",
      "     ----- ---------------------------------- 1.0/7.6 MB 1.5 MB/s eta 0:00:05\n",
      "     ------ --------------------------------- 1.3/7.6 MB 1.7 MB/s eta 0:00:04\n",
      "     ------- -------------------------------- 1.4/7.6 MB 1.8 MB/s eta 0:00:04\n",
      "     ------- -------------------------------- 1.5/7.6 MB 1.8 MB/s eta 0:00:04\n",
      "     -------- ------------------------------- 1.6/7.6 MB 1.8 MB/s eta 0:00:04\n",
      "     -------- ------------------------------- 1.7/7.6 MB 1.8 MB/s eta 0:00:04\n",
      "     --------- ------------------------------ 1.7/7.6 MB 1.8 MB/s eta 0:00:04\n",
      "     --------- ------------------------------ 1.8/7.6 MB 1.7 MB/s eta 0:00:04\n",
      "     --------- ------------------------------ 1.9/7.6 MB 1.8 MB/s eta 0:00:04\n",
      "     ---------- ----------------------------- 2.0/7.6 MB 1.8 MB/s eta 0:00:04\n",
      "     ---------- ----------------------------- 2.1/7.6 MB 1.8 MB/s eta 0:00:04\n",
      "     ----------- ---------------------------- 2.2/7.6 MB 1.8 MB/s eta 0:00:04\n",
      "     ----------- ---------------------------- 2.2/7.6 MB 1.8 MB/s eta 0:00:03\n",
      "     ------------ --------------------------- 2.4/7.6 MB 1.8 MB/s eta 0:00:03\n",
      "     ------------- -------------------------- 2.6/7.6 MB 1.9 MB/s eta 0:00:03\n",
      "     -------------- ------------------------- 2.8/7.6 MB 2.0 MB/s eta 0:00:03\n",
      "     --------------- ------------------------ 3.0/7.6 MB 2.1 MB/s eta 0:00:03\n",
      "     ---------------- ----------------------- 3.1/7.6 MB 2.1 MB/s eta 0:00:03\n",
      "     ---------------- ----------------------- 3.2/7.6 MB 2.1 MB/s eta 0:00:03\n",
      "     ----------------- ---------------------- 3.4/7.6 MB 2.1 MB/s eta 0:00:03\n",
      "     ------------------ --------------------- 3.5/7.6 MB 2.1 MB/s eta 0:00:02\n",
      "     ------------------- -------------------- 3.6/7.6 MB 2.2 MB/s eta 0:00:02\n",
      "     ------------------- -------------------- 3.8/7.6 MB 2.2 MB/s eta 0:00:02\n",
      "     -------------------- ------------------- 4.0/7.6 MB 2.3 MB/s eta 0:00:02\n",
      "     ---------------------- ----------------- 4.3/7.6 MB 2.4 MB/s eta 0:00:02\n",
      "     ----------------------- ---------------- 4.4/7.6 MB 2.4 MB/s eta 0:00:02\n",
      "     ------------------------ --------------- 4.6/7.6 MB 2.4 MB/s eta 0:00:02\n",
      "     ------------------------- -------------- 4.8/7.6 MB 2.5 MB/s eta 0:00:02\n",
      "     ------------------------- -------------- 4.9/7.6 MB 2.4 MB/s eta 0:00:02\n",
      "     ------------------------- -------------- 4.9/7.6 MB 2.4 MB/s eta 0:00:02\n",
      "     ------------------------- -------------- 4.9/7.6 MB 2.4 MB/s eta 0:00:02\n",
      "     --------------------------- ------------ 5.3/7.6 MB 2.5 MB/s eta 0:00:01\n",
      "     --------------------------- ------------ 5.3/7.6 MB 2.5 MB/s eta 0:00:01\n",
      "     ---------------------------- ----------- 5.5/7.6 MB 2.5 MB/s eta 0:00:01\n",
      "     ---------------------------- ----------- 5.5/7.6 MB 2.5 MB/s eta 0:00:01\n",
      "     ---------------------------- ----------- 5.5/7.6 MB 2.5 MB/s eta 0:00:01\n",
      "     ------------------------------ --------- 5.8/7.6 MB 2.5 MB/s eta 0:00:01\n",
      "     ------------------------------- -------- 6.0/7.6 MB 2.5 MB/s eta 0:00:01\n",
      "     ------------------------------- -------- 6.1/7.6 MB 2.5 MB/s eta 0:00:01\n",
      "     ------------------------------- -------- 6.1/7.6 MB 2.5 MB/s eta 0:00:01\n",
      "     -------------------------------- ------- 6.2/7.6 MB 2.4 MB/s eta 0:00:01\n",
      "     -------------------------------- ------- 6.3/7.6 MB 2.4 MB/s eta 0:00:01\n",
      "     --------------------------------- ------ 6.5/7.6 MB 2.4 MB/s eta 0:00:01\n",
      "     --------------------------------- ------ 6.5/7.6 MB 2.4 MB/s eta 0:00:01\n",
      "     ---------------------------------- ----- 6.6/7.6 MB 2.4 MB/s eta 0:00:01\n",
      "     ----------------------------------- ---- 6.7/7.6 MB 2.4 MB/s eta 0:00:01\n",
      "     ------------------------------------ --- 7.0/7.6 MB 2.5 MB/s eta 0:00:01\n",
      "     ------------------------------------- -- 7.2/7.6 MB 2.5 MB/s eta 0:00:01\n",
      "     ---------------------------------------  7.5/7.6 MB 2.5 MB/s eta 0:00:01\n",
      "     ---------------------------------------  7.6/7.6 MB 2.6 MB/s eta 0:00:01\n",
      "     ---------------------------------------- 7.6/7.6 MB 2.5 MB/s eta 0:00:00\n",
      "Collecting contourpy>=1.0.1\n",
      "  Downloading contourpy-1.0.7-cp311-cp311-win_amd64.whl (162 kB)\n",
      "     ---------------------------------------- 0.0/163.0 kB ? eta -:--:--\n",
      "     -------------------------------------- 163.0/163.0 kB 3.2 MB/s eta 0:00:00\n",
      "Collecting cycler>=0.10\n",
      "  Downloading cycler-0.11.0-py3-none-any.whl (6.4 kB)\n",
      "Collecting fonttools>=4.22.0\n",
      "  Downloading fonttools-4.38.0-py3-none-any.whl (965 kB)\n",
      "     ---------------------------------------- 0.0/965.4 kB ? eta -:--:--\n",
      "     -------- ----------------------------- 204.8/965.4 kB 4.1 MB/s eta 0:00:01\n",
      "     ------------------- ------------------ 491.5/965.4 kB 5.1 MB/s eta 0:00:01\n",
      "     -------------------------- ----------- 665.6/965.4 kB 4.6 MB/s eta 0:00:01\n",
      "     -------------------------------------- 965.4/965.4 kB 5.1 MB/s eta 0:00:00\n",
      "Collecting kiwisolver>=1.0.1\n",
      "  Downloading kiwisolver-1.4.4-cp311-cp311-win_amd64.whl (55 kB)\n",
      "     ---------------------------------------- 0.0/55.4 kB ? eta -:--:--\n",
      "     ---------------------------------------- 55.4/55.4 kB 2.8 MB/s eta 0:00:00\n",
      "Requirement already satisfied: numpy>=1.20 in c:\\users\\irene\\appdata\\local\\programs\\python\\python311\\lib\\site-packages (from matplotlib) (1.23.5)\n",
      "Requirement already satisfied: packaging>=20.0 in c:\\users\\irene\\appdata\\roaming\\python\\python311\\site-packages (from matplotlib) (22.0)\n",
      "Requirement already satisfied: pillow>=6.2.0 in c:\\users\\irene\\appdata\\local\\programs\\python\\python311\\lib\\site-packages (from matplotlib) (9.4.0)\n",
      "Requirement already satisfied: pyparsing>=2.3.1 in c:\\users\\irene\\appdata\\local\\programs\\python\\python311\\lib\\site-packages (from matplotlib) (3.0.9)\n",
      "Requirement already satisfied: python-dateutil>=2.7 in c:\\users\\irene\\appdata\\roaming\\python\\python311\\site-packages (from matplotlib) (2.8.2)\n",
      "Requirement already satisfied: six>=1.5 in c:\\users\\irene\\appdata\\roaming\\python\\python311\\site-packages (from python-dateutil>=2.7->matplotlib) (1.16.0)\n",
      "Installing collected packages: kiwisolver, fonttools, cycler, contourpy, matplotlib\n",
      "Successfully installed contourpy-1.0.7 cycler-0.11.0 fonttools-4.38.0 kiwisolver-1.4.4 matplotlib-3.7.0\n",
      "Note: you may need to restart the kernel to use updated packages.\n"
     ]
    }
   ],
   "source": [
    "pip install matplotlib"
   ]
  },
  {
   "cell_type": "code",
   "execution_count": 4,
   "metadata": {},
   "outputs": [],
   "source": [
    "import tensorflow as tf\n",
    "from tensorflow import keras\n",
    "import numpy as np\n",
    "import matplotlib.pyplot as plt\n",
    "\n",
    "fashion = keras.datasets.fashion_mnist\n",
    "(xtrain, ytrain), (xtest, ytest) = fashion.load_data()"
   ]
  },
  {
   "cell_type": "code",
   "execution_count": 5,
   "metadata": {},
   "outputs": [
    {
     "name": "stdout",
     "output_type": "stream",
     "text": [
      "Image Label : 5\n"
     ]
    },
    {
     "data": {
      "text/plain": [
       "<matplotlib.image.AxesImage at 0x17b72ac0f10>"
      ]
     },
     "execution_count": 5,
     "metadata": {},
     "output_type": "execute_result"
    },
    {
     "data": {
      "image/png": "[encoded data removed]",
      "text/plain": [
       "<Figure size 640x480 with 1 Axes>"
      ]
     },
     "metadata": {},
     "output_type": "display_data"
    }
   ],
   "source": [
    "imgIndex = 9\n",
    "image = xtrain[imgIndex]\n",
    "print(\"Image Label :\", ytrain[imgIndex])\n",
    "plt.imshow(image)"
   ]
  },
  {
   "cell_type": "code",
   "execution_count": 6,
   "metadata": {},
   "outputs": [
    {
     "name": "stdout",
     "output_type": "stream",
     "text": [
      "(60000, 28, 28)\n",
      "(10000, 28, 28)\n"
     ]
    }
   ],
   "source": [
    "print(xtrain.shape)\n",
    "print(xtest.shape)"
   ]
  },
  {
   "cell_type": "code",
   "execution_count": 20,
   "metadata": {},
   "outputs": [
    {
     "name": "stdout",
     "output_type": "stream",
     "text": [
      "Model: \"sequential_1\"\n",
      "_________________________________________________________________\n",
      " Layer (type)                Output Shape              Param #   \n",
      "=================================================================\n",
      " flatten_1 (Flatten)         (None, 784)               0         \n",
      "                                                                 \n",
      " dense_3 (Dense)             (None, 300)               235500    \n",
      "                                                                 \n",
      " dense_4 (Dense)             (None, 100)               30100     \n",
      "                                                                 \n",
      " dense_5 (Dense)             (None, 10)                1010      \n",
      "                                                                 \n",
      "=================================================================\n",
      "Total params: 266,610\n",
      "Trainable params: 266,610\n",
      "Non-trainable params: 0\n",
      "_________________________________________________________________\n",
      "None\n"
     ]
    }
   ],
   "source": [
    "# building neural network architecture\n",
    "model = keras.models.Sequential([\n",
    "    keras.layers.Flatten(input_shape=[28, 28]),\n",
    "    keras.layers.Dense(300, activation=\"relu\"),\n",
    "    keras.layers.Dense(100, activation=\"relu\"),\n",
    "    keras.layers.Dense(10, activation=\"softmax\")\n",
    "])\n",
    "print(model.summary())"
   ]
  },
  {
   "cell_type": "code",
   "execution_count": 21,
   "metadata": {},
   "outputs": [],
   "source": [
    "xvalid, xtrain = xtrain[:5000]/255.0, xtrain[5000:]/255.0\n",
    "yvalid, ytrain = ytrain[:5000], ytrain[5000:]"
   ]
  },
  {
   "cell_type": "code",
   "execution_count": 27,
   "metadata": {},
   "outputs": [
    {
     "name": "stdout",
     "output_type": "stream",
     "text": [
      "Epoch 1/30\n",
      "1563/1563 [==============================] - 4s 2ms/step - loss: 0.2777 - accuracy: 0.9004 - val_loss: 0.3293 - val_accuracy: 0.8800\n",
      "Epoch 2/30\n",
      "1563/1563 [==============================] - 3s 2ms/step - loss: 0.2733 - accuracy: 0.9021 - val_loss: 0.3389 - val_accuracy: 0.8738\n",
      "Epoch 3/30\n",
      "1563/1563 [==============================] - 3s 2ms/step - loss: 0.2706 - accuracy: 0.9031 - val_loss: 0.3259 - val_accuracy: 0.8812\n",
      "Epoch 4/30\n",
      "1563/1563 [==============================] - 3s 2ms/step - loss: 0.2673 - accuracy: 0.9040 - val_loss: 0.3194 - val_accuracy: 0.8854\n",
      "Epoch 5/30\n",
      "1563/1563 [==============================] - 3s 2ms/step - loss: 0.2644 - accuracy: 0.9051 - val_loss: 0.3252 - val_accuracy: 0.8832\n",
      "Epoch 6/30\n",
      "1563/1563 [==============================] - 3s 2ms/step - loss: 0.2611 - accuracy: 0.9064 - val_loss: 0.3343 - val_accuracy: 0.8818\n",
      "Epoch 7/30\n",
      "1563/1563 [==============================] - 3s 2ms/step - loss: 0.2578 - accuracy: 0.9072 - val_loss: 0.3266 - val_accuracy: 0.8786\n",
      "Epoch 8/30\n",
      "1563/1563 [==============================] - 3s 2ms/step - loss: 0.2550 - accuracy: 0.9083 - val_loss: 0.3232 - val_accuracy: 0.8840\n",
      "Epoch 9/30\n",
      "1563/1563 [==============================] - 3s 2ms/step - loss: 0.2516 - accuracy: 0.9102 - val_loss: 0.3160 - val_accuracy: 0.8848\n",
      "Epoch 10/30\n",
      "1563/1563 [==============================] - 3s 2ms/step - loss: 0.2487 - accuracy: 0.9105 - val_loss: 0.3128 - val_accuracy: 0.8888\n",
      "Epoch 11/30\n",
      "1563/1563 [==============================] - 3s 2ms/step - loss: 0.2463 - accuracy: 0.9114 - val_loss: 0.3101 - val_accuracy: 0.8898\n",
      "Epoch 12/30\n",
      "1563/1563 [==============================] - 3s 2ms/step - loss: 0.2429 - accuracy: 0.9139 - val_loss: 0.3134 - val_accuracy: 0.8876\n",
      "Epoch 13/30\n",
      "1563/1563 [==============================] - 3s 2ms/step - loss: 0.2399 - accuracy: 0.9137 - val_loss: 0.3142 - val_accuracy: 0.8836\n",
      "Epoch 14/30\n",
      "1563/1563 [==============================] - 3s 2ms/step - loss: 0.2375 - accuracy: 0.9156 - val_loss: 0.3234 - val_accuracy: 0.8840\n",
      "Epoch 15/30\n",
      "1563/1563 [==============================] - 3s 2ms/step - loss: 0.2343 - accuracy: 0.9158 - val_loss: 0.3099 - val_accuracy: 0.8872\n",
      "Epoch 16/30\n",
      "1563/1563 [==============================] - 3s 2ms/step - loss: 0.2323 - accuracy: 0.9174 - val_loss: 0.3197 - val_accuracy: 0.8880\n",
      "Epoch 17/30\n",
      "1563/1563 [==============================] - 3s 2ms/step - loss: 0.2294 - accuracy: 0.9185 - val_loss: 0.3124 - val_accuracy: 0.8882\n",
      "Epoch 18/30\n",
      "1563/1563 [==============================] - 3s 2ms/step - loss: 0.2269 - accuracy: 0.9191 - val_loss: 0.3189 - val_accuracy: 0.8844\n",
      "Epoch 19/30\n",
      "1563/1563 [==============================] - 3s 2ms/step - loss: 0.2240 - accuracy: 0.9207 - val_loss: 0.3234 - val_accuracy: 0.8832\n",
      "Epoch 20/30\n",
      "1563/1563 [==============================] - 3s 2ms/step - loss: 0.2209 - accuracy: 0.9208 - val_loss: 0.3178 - val_accuracy: 0.8872\n",
      "Epoch 21/30\n",
      "1563/1563 [==============================] - 3s 2ms/step - loss: 0.2188 - accuracy: 0.9211 - val_loss: 0.3000 - val_accuracy: 0.8916\n",
      "Epoch 22/30\n",
      "1563/1563 [==============================] - 3s 2ms/step - loss: 0.2161 - accuracy: 0.9232 - val_loss: 0.3070 - val_accuracy: 0.8930\n",
      "Epoch 23/30\n",
      "1563/1563 [==============================] - 3s 2ms/step - loss: 0.2143 - accuracy: 0.9233 - val_loss: 0.3062 - val_accuracy: 0.8954\n",
      "Epoch 24/30\n",
      "1563/1563 [==============================] - 3s 2ms/step - loss: 0.2114 - accuracy: 0.9246 - val_loss: 0.3044 - val_accuracy: 0.8898\n",
      "Epoch 25/30\n",
      "1563/1563 [==============================] - 3s 2ms/step - loss: 0.2100 - accuracy: 0.9258 - val_loss: 0.3178 - val_accuracy: 0.8878\n",
      "Epoch 26/30\n",
      "1563/1563 [==============================] - 3s 2ms/step - loss: 0.2068 - accuracy: 0.9268 - val_loss: 0.3101 - val_accuracy: 0.8914\n",
      "Epoch 27/30\n",
      "1563/1563 [==============================] - 3s 2ms/step - loss: 0.2046 - accuracy: 0.9268 - val_loss: 0.3011 - val_accuracy: 0.8948\n",
      "Epoch 28/30\n",
      "1563/1563 [==============================] - 3s 2ms/step - loss: 0.2023 - accuracy: 0.9282 - val_loss: 0.3637 - val_accuracy: 0.8636\n",
      "Epoch 29/30\n",
      "1563/1563 [==============================] - 3s 2ms/step - loss: 0.2005 - accuracy: 0.9287 - val_loss: 0.3114 - val_accuracy: 0.8902\n",
      "Epoch 30/30\n",
      "1563/1563 [==============================] - 3s 2ms/step - loss: 0.1972 - accuracy: 0.9296 - val_loss: 0.3090 - val_accuracy: 0.8868\n"
     ]
    }
   ],
   "source": [
    "# training a classification model with neural networks\n",
    "model.compile(loss=\"sparse_categorical_crossentropy\",\n",
    "              optimizer=\"sgd\",\n",
    "              metrics=[\"accuracy\"])\n",
    "history = model.fit(xtrain, ytrain, epochs=30, \n",
    "                    validation_data=(xvalid, yvalid))"
   ]
  },
  {
   "cell_type": "code",
   "execution_count": 28,
   "metadata": {},
   "outputs": [
    {
     "name": "stdout",
     "output_type": "stream",
     "text": [
      "WARNING:tensorflow:5 out of the last 7 calls to <function Model.make_predict_function.<locals>.predict_function at 0x0000017BA6492480> triggered tf.function retracing. Tracing is expensive and the excessive number of tracings could be due to (1) creating @tf.function repeatedly in a loop, (2) passing tensors with different shapes, (3) passing Python objects instead of tensors. For (1), please define your @tf.function outside of the loop. For (2), @tf.function has reduce_retracing=True option that can avoid unnecessary retracing. For (3), please refer to https://www.tensorflow.org/guide/function#controlling_retracing and https://www.tensorflow.org/api_docs/python/tf/function for  more details.\n",
      "1/1 [==============================] - 0s 44ms/step\n",
      "[[0. 0. 0. 0. 0. 0. 0. 0. 0. 1.]\n",
      " [0. 0. 1. 0. 0. 0. 0. 0. 0. 0.]\n",
      " [0. 1. 0. 0. 0. 0. 0. 0. 0. 0.]\n",
      " [0. 1. 0. 0. 0. 0. 0. 0. 0. 0.]\n",
      " [0. 0. 0. 0. 0. 0. 1. 0. 0. 0.]]\n"
     ]
    }
   ],
   "source": [
    "new = xtest[:5]\n",
    "predictions = model.predict(new)\n",
    "print(predictions)"
   ]
  },
  {
   "cell_type": "code",
   "execution_count": 29,
   "metadata": {},
   "outputs": [
    {
     "name": "stdout",
     "output_type": "stream",
     "text": [
      "[9 2 1 1 6]\n"
     ]
    }
   ],
   "source": [
    "classes = np.argmax(predictions, axis=1)\n",
    "print(classes)"
   ]
  }
 ],
 "metadata": {
  "kernelspec": {
   "display_name": "Python 3",
   "language": "python",
   "name": "python3"
  },
  "language_info": {
   "codemirror_mode": {
    "name": "ipython",
    "version": 3
   },
   "file_extension": ".py",
   "mimetype": "text/x-python",
   "name": "python",
   "nbconvert_exporter": "python",
   "pygments_lexer": "ipython3",
   "version": "3.11.2"
  },
  "orig_nbformat": 4,
  "vscode": {
   "interpreter": {
    "hash": "264564c81d6c46f3bf7f6394237906ae0ad476bd86b667ff00469b8c2cc04623"
   }
  }
 },
 "nbformat": 4,
 "nbformat_minor": 2
}
