{
 "cells": [
  {
   "attachments": {},
   "cell_type": "markdown",
   "metadata": {},
   "source": [
    "The exercise was abandoned because of the lack of the right data (that was made obsolete).\n",
    "\n",
    "Refer rather to:\n",
    "6-stock-price-prediction-with-lstm"
   ]
  },
  {
   "cell_type": "code",
   "execution_count": 2,
   "metadata": {},
   "outputs": [],
   "source": [
    "import numpy as np\n",
    "import pandas as pd\n",
    "from sklearn import preprocessing\n",
    "from sklearn.model_selection import train_test_split\n",
    "from sklearn.linear_model import LinearRegression"
   ]
  },
  {
   "cell_type": "code",
   "execution_count": 4,
   "metadata": {},
   "outputs": [],
   "source": [
    "def prepare_data(df, forecast_col, forecast_out, test_size):\n",
    "    label = df[forecast_col].shift(-forecast_out)       # creating new column called label with the last 5 rows are NaN\n",
    "    X = np.array(df[[forecast_col]])                    # creating the feature array\n",
    "    X = preprocessing.scale(X)                          # preprocessing the feature array\n",
    "    X_lately = X[-forecast_out:]                        # creating the column i want to use later in the predicting method\n",
    "    X = X[:-forecast_out]                               # X that will contain the training and testing\n",
    "    label.dropna(inplace=True)                          # dropping na values\n",
    "    y = np.array(label)                                 # assigning Y\n",
    "    X_train, X_test, Y_train, Y_test = train_test_split(X, y, test_size=test_size, random_state=0)      # cross validation\n",
    "    \n",
    "    response = [X_train, X_test, Y_train, Y_test, X_lately]\n",
    "    return response"
   ]
  },
  {
   "cell_type": "code",
   "execution_count": null,
   "metadata": {},
   "outputs": [],
   "source": [
    "df = pd.read_csv"
   ]
  }
 ],
 "metadata": {
  "kernelspec": {
   "display_name": "Python 3",
   "language": "python",
   "name": "python3"
  },
  "language_info": {
   "codemirror_mode": {
    "name": "ipython",
    "version": 3
   },
   "file_extension": ".py",
   "mimetype": "text/x-python",
   "name": "python",
   "nbconvert_exporter": "python",
   "pygments_lexer": "ipython3",
   "version": "3.11.2"
  },
  "orig_nbformat": 4,
  "vscode": {
   "interpreter": {
    "hash": "264564c81d6c46f3bf7f6394237906ae0ad476bd86b667ff00469b8c2cc04623"
   }
  }
 },
 "nbformat": 4,
 "nbformat_minor": 2
}
