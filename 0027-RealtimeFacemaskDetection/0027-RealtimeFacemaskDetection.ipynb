{
 "cells": [
  {
   "cell_type": "code",
   "execution_count": 7,
   "metadata": {},
   "outputs": [],
   "source": [
    "from tensorflow.keras.models import Sequential\n",
    "from tensorflow.keras.layers import Conv2D, MaxPooling2D, Flatten, Dropout, Dense\n",
    "cnn = Sequential([Conv2D(filters=100, kernel_size=(3,3), \n",
    "                    activation='relu'),\n",
    "                    MaxPooling2D(pool_size=(2,2)),\n",
    "                    Conv2D(filters=100, kernel_size=(3,3), \n",
    "                    activation='relu'),\n",
    "                    MaxPooling2D(pool_size=(2,2)),\n",
    "                    Flatten(),\n",
    "                    Dropout(0.5),\n",
    "                    Dense(50),\n",
    "                    Dense(35),\n",
    "                    Dense(2)])\n",
    "cnn.compile(optimizer='adam', loss='binary_crossentropy', metrics=['acc'])"
   ]
  },
  {
   "cell_type": "code",
   "execution_count": null,
   "metadata": {},
   "outputs": [],
   "source": [
    "import cv2\n",
    "import numpy as np\n",
    "\n",
    "labels_dict={0:'No mask',1:'Mask'}\n",
    "color_dict={0:(0,0,255),1:(0,255,0)}\n",
    "imgsize = 4 #set image resize\n",
    "camera = cv2.VideoCapture(0) # Turn on camera\n",
    "#camera.release()\n",
    "  \n",
    "# Identify frontal face\n",
    "classifier = cv2.CascadeClassifier(cv2.data.haarcascades + 'haarcascade_frontalface_default.xml')\n",
    "while True:\n",
    "    (rval, im) = camera.read()\n",
    "    #print(type(im))\n",
    "    #print(type(rval))\n",
    "    #print(rval)\n",
    "    #height, width, _ = im.shape\n",
    "    #print(height)\n",
    "    #print(width)\n",
    "    im=cv2.flip(im,1,1) #mirrow the image\n",
    "    imgs = cv2.resize(im, (im.shape[1] // imgsize, im.shape[0] //\n",
    "    imgsize))\n",
    "    face_rec = classifier.detectMultiScale(imgs) \n",
    "    for i in face_rec: # Overlay rectangle on face\n",
    "        (x, y, l, w) = [v * imgsize for v in i] \n",
    "        face_img = im[y:y+w, x:x+l]\n",
    "        resized=cv2.resize(face_img,(150,150))\n",
    "        normalized=resized/255.0\n",
    "        reshaped=np.reshape(normalized,(1,150,150,3))\n",
    "        reshaped = np.vstack([reshaped])\n",
    "        result=cnn.predict(reshaped)\n",
    "        label=np.argmax(result,axis=1)[0]\n",
    "        cv2.rectangle(im,(x,y),(x+l,y+w),color_dict[label],2)\n",
    "        cv2.rectangle(im,(x,y-40),(x+l,y),color_dict[label],-1)\n",
    "        cv2.putText(im, labels_dict[label], (x, y-\n",
    "        10),cv2.FONT_HERSHEY_SIMPLEX,0.8,(255,255,255),2)\n",
    "    cv2.imshow('LIVE',im)\n",
    "    key = cv2.waitKey(10)\n",
    "    \n",
    "    # stop loop by ESC\n",
    "    if key == 27: # The Esc key\n",
    "        break\n",
    "camera.release()\n",
    "cv2.destroyAllWindows()"
   ]
  },
  {
   "cell_type": "code",
   "execution_count": 14,
   "metadata": {},
   "outputs": [],
   "source": [
    "### THIS DOESN'T WORK WHEN CAMERA LIGHT IS ON\n",
    "### GO TO DEVICES ON WINDOWS AND DISABLE IT MANUALLY\n",
    "\n",
    "import cv2\n",
    "\n",
    "# Create a VideoCapture object\n",
    "camera = cv2.VideoCapture(0)\n",
    "\n",
    "# Release the VideoCapture object\n",
    "camera.release()\n"
   ]
  },
  {
   "cell_type": "code",
   "execution_count": 26,
   "metadata": {},
   "outputs": [],
   "source": [
    "import cv2\n",
    "\n",
    "# Open the camera\n",
    "camera = cv2.VideoCapture(0)\n",
    "\n",
    "# Loop over frames from the camera\n",
    "while True:\n",
    "    # Read a frame from the camera\n",
    "    rval, frame = camera.read()\n",
    "\n",
    "    # Display the frame\n",
    "    cv2.imshow(\"Frame\", frame)\n",
    "\n",
    "    # Wait for a key press\n",
    "    key = cv2.waitKey(1)\n",
    "\n",
    "    # Check if the space bar was pressed\n",
    "    if key == ord(\" \"):\n",
    "        break\n",
    "\n",
    "# Release the camera\n",
    "camera.release()\n",
    "\n",
    "# Close all windows\n",
    "cv2.destroyAllWindows()\n"
   ]
  }
 ],
 "metadata": {
  "kernelspec": {
   "display_name": "Python 3",
   "language": "python",
   "name": "python3"
  },
  "language_info": {
   "codemirror_mode": {
    "name": "ipython",
    "version": 3
   },
   "file_extension": ".py",
   "mimetype": "text/x-python",
   "name": "python",
   "nbconvert_exporter": "python",
   "pygments_lexer": "ipython3",
   "version": "3.11.2"
  },
  "orig_nbformat": 4,
  "vscode": {
   "interpreter": {
    "hash": "264564c81d6c46f3bf7f6394237906ae0ad476bd86b667ff00469b8c2cc04623"
   }
  }
 },
 "nbformat": 4,
 "nbformat_minor": 2
}
